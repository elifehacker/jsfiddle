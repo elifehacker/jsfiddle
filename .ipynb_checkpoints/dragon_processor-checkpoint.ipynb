{
 "cells": [
  {
   "cell_type": "code",
   "execution_count": 62,
   "metadata": {},
   "outputs": [
    {
     "name": "stdout",
     "output_type": "stream",
     "text": [
      "b'F:\\\\workspace\\\\locations_display\\\\inputs'\n",
      "dragon_input.xlsx\n",
      "     楼层        姓名      货号                                                 商品  \\\n",
      "0    楼层        姓名      货号                                                 商品   \n",
      "1   58F        金子  BOILER        🈵️$75 送煲汤老鸡，不需拍…BOILER 冰冻 11号 老鸡， （1.1kg左右）   \n",
      "2   59F         芹    PBE1  🈹️：五花肉八折，限购两份，卤肉饭，红烧肉，切片香煎五花肉\\n五花肉 (pork Belly...   \n",
      "8   60F    🐼爱米粒J🐨    PBE1  🈹️：五花肉八折，限购两份，卤肉饭，红烧肉，切片香煎五花肉\\n五花肉 (pork Belly...   \n",
      "12  61F  slo bro1    PBE1  🈹️：五花肉八折，限购两份，卤肉饭，红烧肉，切片香煎五花肉\\n五花肉 (pork Belly...   \n",
      "18  62F      lily     MF1                          鸡腿肉去骨去皮（Marryland Fillet）   \n",
      "25  64F    sharon    PBE1  🈹️：五花肉八折，限购两份，卤肉饭，红烧肉，切片香煎五花肉\\n五花肉 (pork Belly...   \n",
      "\n",
      "    商品规格     单价  数量  数量单位    运费     总价  ...                 下单时间   备注  \\\n",
      "0   商品规格     单价  数量  数量单位    运费     总价  ...                 下单时间   备注   \n",
      "1    NaN   4.75   1     袋  0.00   4.75  ...  2021-08-20 09:24:28  NaN   \n",
      "2    NaN  13.50   1    KG  0.00  81.00  ...  2021-08-20 13:33:45  NaN   \n",
      "8    NaN  13.50   2    KG  0.00  53.75  ...  2021-08-20 18:38:23  NaN   \n",
      "12   NaN  13.50   2    KG  0.00  81.75  ...  2021-08-20 20:51:11  NaN   \n",
      "18   NaN  12.00   1    KG  0.00  68.75  ...  2021-08-21 09:26:16  NaN   \n",
      "25   NaN  13.50   1    KG  0.00  65.00  ...  2021-08-21 10:59:17  NaN   \n",
      "\n",
      "   Unnamed: 31                                               商品总数 商品总数.1  \\\n",
      "0          NaN                                                 商品   商品规格   \n",
      "1          NaN        🈵️$75 送煲汤老鸡，不需拍…BOILER 冰冻 11号 老鸡， （1.1kg左右）    NaN   \n",
      "2          NaN  🈹️：五花肉八折，限购两份，卤肉饭，红烧肉，切片香煎五花肉\\n五花肉 (pork Belly...    NaN   \n",
      "8          NaN                          鸡中翅（ Chicken Middle Wing）    NaN   \n",
      "12         NaN                        冰冻 2kg 切块猪筒骨（pork bones）热塑封    NaN   \n",
      "18         NaN                                                NaN    NaN   \n",
      "25         NaN                                                NaN    NaN   \n",
      "\n",
      "                     商品总数.2  商品总数.3 商品总数.4 商品总数.5           full contact  \n",
      "0                      商品id    商品货号   商品单价     总计            联系人 联系方式 楼层  \n",
      "1    20210814163339tBvkUnHt  BOILER   4.75      2  Lilain 0426120316 58F  \n",
      "2   G20210804184505voRpsKFx    PBE1  13.50      6     qin 0450990186 59F  \n",
      "8   G20210804184505evC0Xzf7     CG1   9.50      3   Emily 0434039017 60F  \n",
      "12   20210804193224wTpPKHhS    PBO2   6.25      1     ren 0420945788 61F  \n",
      "18                      NaN     NaN    NaN    NaN    Issa 0426630991 62F  \n",
      "25                      NaN     NaN    NaN    NaN  Sharon 0408751906 64F  \n",
      "\n",
      "[7 rows x 39 columns]\n",
      "[['Lilain 0426120316 58F', 'Room2028，3 Belmore St, Burwood, New South Wales, Australia, 2134'], ['qin 0450990186 59F', '68 Burwood Road, Concord, New South Wales, Australia, 2137'], ['Emily 0434039017 60F', '5a colin pl, Carlingford, New South Wales, Australia, 2118'], ['ren 0420945788 61F', '5 dairy farm way, Kellyville, New South Wales, Australia, 2155'], ['Issa 0426630991 62F', '1305d/101 Waterloo road , Macquarie Park , Macquarie Park, New South Wales, Australia, 2113'], ['Sharon 0408751906 64F', '163 ST JOHNS AVE GORDON , Gordon, New South Wales, Australia, 2072']]\n"
     ]
    }
   ],
   "source": [
    "import pandas as pd\n",
    "import os\n",
    "\n",
    "def process_df(df):\n",
    "    df.dropna(subset = [\"楼层\"], inplace=True)\n",
    "    df.dropna(subset = [\"详细地址\"], inplace=True)\n",
    "    df['full contact'] = df['联系人'] +' '+ \\\n",
    "        df['联系方式'].astype(str)+' '+ \\\n",
    "        df['楼层']\n",
    "    \n",
    "\n",
    "directory_in_str = 'F:\\workspace\\locations_display\\inputs'\n",
    "directory = os.fsencode(directory_in_str)\n",
    "print(directory)\n",
    "result = list()\n",
    "cols = ['full contact', '详细地址']\n",
    "for file in os.listdir(directory):\n",
    "    filename = os.fsdecode(file)\n",
    "    print(filename)\n",
    "    if filename.endswith(\".xlsx\"): \n",
    "        file_path = os.path.join(directory.decode(\"utf-8\"), filename)\n",
    "        xls = pd.ExcelFile(file_path)\n",
    "        df = xls.parse(0)\n",
    "        #print(df.columns)\n",
    "        process_df(df)\n",
    "        print(df)\n",
    "        result+=df[cols].values[1:].tolist()\n",
    "    else:\n",
    "        continue\n",
    "print(result)"
   ]
  },
  {
   "cell_type": "code",
   "execution_count": null,
   "metadata": {},
   "outputs": [],
   "source": []
  }
 ],
 "metadata": {
  "kernelspec": {
   "display_name": "Python 3",
   "language": "python",
   "name": "python3"
  },
  "language_info": {
   "codemirror_mode": {
    "name": "ipython",
    "version": 3
   },
   "file_extension": ".py",
   "mimetype": "text/x-python",
   "name": "python",
   "nbconvert_exporter": "python",
   "pygments_lexer": "ipython3",
   "version": "3.8.5"
  }
 },
 "nbformat": 4,
 "nbformat_minor": 4
}
